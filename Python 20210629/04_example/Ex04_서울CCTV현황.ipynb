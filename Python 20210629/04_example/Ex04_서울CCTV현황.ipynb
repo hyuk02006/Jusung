{
 "cells": [
  {
   "cell_type": "markdown",
   "metadata": {},
   "source": [
    "[예제] 파이썬의 데이타 주무르기\n",
    "\n",
    "\n",
    "## 서울시 자치구 인구대비 CCTV 현황\n",
    "\n",
    "1. 서울시 자치구 연도별 CCTV 현황\n",
    "\n",
    "    서울열린데이타 : https://data.seoul.go.kr 에서 cctv 검색하여 csv 파일 다운로드\n",
    "    \n",
    "\n",
    "2. 서울시 주민등록인구 (구별) 통계\n",
    "\n",
    "    서울열린데이타 : https://data.seoul.go.kr > 인구 > XLS 파일 다운로드"
   ]
  },
  {
   "cell_type": "code",
   "execution_count": 1,
   "metadata": {},
   "outputs": [
    {
     "data": {
      "text/html": [
       "<div>\n",
       "<style scoped>\n",
       "    .dataframe tbody tr th:only-of-type {\n",
       "        vertical-align: middle;\n",
       "    }\n",
       "\n",
       "    .dataframe tbody tr th {\n",
       "        vertical-align: top;\n",
       "    }\n",
       "\n",
       "    .dataframe thead th {\n",
       "        text-align: right;\n",
       "    }\n",
       "</style>\n",
       "<table border=\"1\" class=\"dataframe\">\n",
       "  <thead>\n",
       "    <tr style=\"text-align: right;\">\n",
       "      <th></th>\n",
       "      <th>기관명</th>\n",
       "      <th>소계</th>\n",
       "      <th>2013년도 이전</th>\n",
       "      <th>2014년</th>\n",
       "      <th>2015년</th>\n",
       "      <th>2016년</th>\n",
       "      <th>3년간증가율</th>\n",
       "    </tr>\n",
       "  </thead>\n",
       "  <tbody>\n",
       "    <tr>\n",
       "      <th>22</th>\n",
       "      <td>종로구</td>\n",
       "      <td>1619</td>\n",
       "      <td>464</td>\n",
       "      <td>314</td>\n",
       "      <td>211</td>\n",
       "      <td>630</td>\n",
       "      <td>248.922414</td>\n",
       "    </tr>\n",
       "    <tr>\n",
       "      <th>9</th>\n",
       "      <td>도봉구</td>\n",
       "      <td>825</td>\n",
       "      <td>238</td>\n",
       "      <td>159</td>\n",
       "      <td>42</td>\n",
       "      <td>386</td>\n",
       "      <td>246.638655</td>\n",
       "    </tr>\n",
       "    <tr>\n",
       "      <th>12</th>\n",
       "      <td>마포구</td>\n",
       "      <td>980</td>\n",
       "      <td>314</td>\n",
       "      <td>118</td>\n",
       "      <td>169</td>\n",
       "      <td>379</td>\n",
       "      <td>212.101911</td>\n",
       "    </tr>\n",
       "    <tr>\n",
       "      <th>8</th>\n",
       "      <td>노원구</td>\n",
       "      <td>1566</td>\n",
       "      <td>542</td>\n",
       "      <td>57</td>\n",
       "      <td>451</td>\n",
       "      <td>516</td>\n",
       "      <td>188.929889</td>\n",
       "    </tr>\n",
       "    <tr>\n",
       "      <th>1</th>\n",
       "      <td>강동구</td>\n",
       "      <td>1010</td>\n",
       "      <td>379</td>\n",
       "      <td>99</td>\n",
       "      <td>155</td>\n",
       "      <td>377</td>\n",
       "      <td>166.490765</td>\n",
       "    </tr>\n",
       "  </tbody>\n",
       "</table>\n",
       "</div>"
      ],
      "text/plain": [
       "    기관명    소계  2013년도 이전  2014년  2015년  2016년      3년간증가율\n",
       "22  종로구  1619        464    314    211    630  248.922414\n",
       "9   도봉구   825        238    159     42    386  246.638655\n",
       "12  마포구   980        314    118    169    379  212.101911\n",
       "8   노원구  1566        542     57    451    516  188.929889\n",
       "1   강동구  1010        379     99    155    377  166.490765"
      ]
     },
     "execution_count": 1,
     "metadata": {},
     "output_type": "execute_result"
    }
   ],
   "source": [
    "# 1. 데이타 살펴보기\n",
    "\n",
    "import pandas as pd\n",
    "\n",
    "\"\"\" 1. 서울시 자치구 연도별 CCTV 현황 \"\"\"\n",
    "cctvSeoul = pd.read_csv('./data/cctv_in_seoul.csv',encoding='utf-8')\n",
    "cctvSeoul.head(10)\n",
    "\n",
    "# (1) CCTV가 많은 순으로 정렬하여 상위 5위 \n",
    "cctvSeoul.sort_values(by='소계', ascending=False).head(5)\n",
    "\n",
    "\n",
    "# (2) 2014~2016년 3년간 CCTV 증가율을 추가\n",
    "#     3년동안의 증가율 = ( 2014년 + 2015년 + 2016년 ) / 2013년도 이전 * 100\n",
    "#     3년간 증가율 높은 순으로 출력\n",
    "\n",
    "cctvSeoul['3년간증가율']=(cctvSeoul['2014년'] + cctvSeoul['2015년'] \\\n",
    "                     + cctvSeoul['2016년']) / cctvSeoul['2013년도 이전'] * 100\n",
    "cctvSeoul.head(5)\n",
    "cctvSeoul.sort_values(by='3년간증가율', ascending=False).head(5)"
   ]
  },
  {
   "cell_type": "code",
   "execution_count": 2,
   "metadata": {},
   "outputs": [
    {
     "data": {
      "text/html": [
       "<div>\n",
       "<style scoped>\n",
       "    .dataframe tbody tr th:only-of-type {\n",
       "        vertical-align: middle;\n",
       "    }\n",
       "\n",
       "    .dataframe tbody tr th {\n",
       "        vertical-align: top;\n",
       "    }\n",
       "\n",
       "    .dataframe thead th {\n",
       "        text-align: right;\n",
       "    }\n",
       "</style>\n",
       "<table border=\"1\" class=\"dataframe\">\n",
       "  <thead>\n",
       "    <tr style=\"text-align: right;\">\n",
       "      <th></th>\n",
       "      <th>구별</th>\n",
       "      <th>인구수</th>\n",
       "      <th>한국인</th>\n",
       "      <th>외국인</th>\n",
       "      <th>고령자</th>\n",
       "      <th>외국인비율</th>\n",
       "      <th>고령자비율</th>\n",
       "    </tr>\n",
       "  </thead>\n",
       "  <tbody>\n",
       "    <tr>\n",
       "      <th>1</th>\n",
       "      <td>종로구</td>\n",
       "      <td>163026</td>\n",
       "      <td>153065</td>\n",
       "      <td>9961</td>\n",
       "      <td>26742</td>\n",
       "      <td>6.110068</td>\n",
       "      <td>16.403518</td>\n",
       "    </tr>\n",
       "    <tr>\n",
       "      <th>2</th>\n",
       "      <td>중구</td>\n",
       "      <td>135633</td>\n",
       "      <td>125725</td>\n",
       "      <td>9908</td>\n",
       "      <td>22005</td>\n",
       "      <td>7.305007</td>\n",
       "      <td>16.223928</td>\n",
       "    </tr>\n",
       "    <tr>\n",
       "      <th>3</th>\n",
       "      <td>용산구</td>\n",
       "      <td>245090</td>\n",
       "      <td>228999</td>\n",
       "      <td>16091</td>\n",
       "      <td>37640</td>\n",
       "      <td>6.565343</td>\n",
       "      <td>15.357624</td>\n",
       "    </tr>\n",
       "    <tr>\n",
       "      <th>4</th>\n",
       "      <td>성동구</td>\n",
       "      <td>316463</td>\n",
       "      <td>308221</td>\n",
       "      <td>8242</td>\n",
       "      <td>42767</td>\n",
       "      <td>2.604412</td>\n",
       "      <td>13.514060</td>\n",
       "    </tr>\n",
       "    <tr>\n",
       "      <th>5</th>\n",
       "      <td>광진구</td>\n",
       "      <td>371063</td>\n",
       "      <td>355559</td>\n",
       "      <td>15504</td>\n",
       "      <td>45619</td>\n",
       "      <td>4.178266</td>\n",
       "      <td>12.294139</td>\n",
       "    </tr>\n",
       "  </tbody>\n",
       "</table>\n",
       "</div>"
      ],
      "text/plain": [
       "    구별     인구수     한국인    외국인    고령자     외국인비율      고령자비율\n",
       "1  종로구  163026  153065   9961  26742  6.110068  16.403518\n",
       "2   중구  135633  125725   9908  22005  7.305007  16.223928\n",
       "3  용산구  245090  228999  16091  37640  6.565343  15.357624\n",
       "4  성동구  316463  308221   8242  42767  2.604412  13.514060\n",
       "5  광진구  371063  355559  15504  45619  4.178266  12.294139"
      ]
     },
     "execution_count": 2,
     "metadata": {},
     "output_type": "execute_result"
    }
   ],
   "source": [
    "\"\"\" 2. 서울시 주민등록인구 (구별) 통계 \"\"\"\n",
    "# popsSeoul = pd.read_excel('./dataset/pops_in_seoul.xls',encoding='utf-8')\n",
    "# popsSeoul.head(10)\n",
    "# 기간, 자치구, 세대가 컬럼명외에 데이타 1행과 2행까지 차지한다\n",
    "# header=2 : 세번째줄부터 읽기\n",
    "# popsSeoul = pd.read_excel('./dataset/pops_in_seoul.xls',header=2, encoding='utf-8') \n",
    "# popsSeoul.head(10)  \n",
    "# 필요한 컬럼 ['자치구','계','계.1','계.2','65세 이상 고령자'] = B,D,G,J,N\n",
    "popsSeoul = pd.read_excel('./data/pops_in_seoul.xls',header=2, \n",
    "                        usecols='B,D,G,J,N', encoding='utf-8') \n",
    "popsSeoul.head(10)  \n",
    "\n",
    "# 컬럼명 변경\n",
    "popsSeoul.rename( columns={ popsSeoul.columns[0]:'구별',\n",
    "                          popsSeoul.columns[1]:'인구수',\n",
    "                          popsSeoul.columns[2]:'한국인',\n",
    "                          popsSeoul.columns[3]:'외국인',\n",
    "                          popsSeoul.columns[4]:'고령자'}, inplace=True)\n",
    "popsSeoul.head(10) \n",
    "\n",
    "# 합계행은 불필요하기에 제거\n",
    "popsSeoul.drop([0], inplace=True)\n",
    "popsSeoul.head(10) \n",
    "\n",
    "# 정렬 - 인구수, 외국인, 고령자\n",
    "# popsSeoul.sort_values(by='인구수', ascending=False).head(5)\n",
    "\n",
    "# 각 구별 '외국인비율'과  '고령자율' 추가\n",
    "# 외국인비율 = 외국인수 / 전체인구수 * 100\n",
    "popsSeoul['외국인비율'] = popsSeoul['외국인']/popsSeoul['인구수'] * 100\n",
    "popsSeoul['고령자비율'] = popsSeoul['고령자']/popsSeoul['인구수'] * 100\n",
    "popsSeoul.head(5)\n",
    "# 정렬 - 외국인비율순, 고령자비율순\n",
    "# popsSeoul.sort_values(by='외국인비율', ascending=False).head(5)"
   ]
  },
  {
   "cell_type": "code",
   "execution_count": 3,
   "metadata": {},
   "outputs": [
    {
     "name": "stdout",
     "output_type": "stream",
     "text": [
      "<class 'pandas.core.frame.DataFrame'>\n",
      "RangeIndex: 25 entries, 0 to 24\n",
      "Data columns (total 7 columns):\n",
      "기관명          25 non-null object\n",
      "소계           25 non-null int64\n",
      "2013년도 이전    25 non-null int64\n",
      "2014년        25 non-null int64\n",
      "2015년        25 non-null int64\n",
      "2016년        25 non-null int64\n",
      "3년간증가율       25 non-null float64\n",
      "dtypes: float64(1), int64(5), object(1)\n",
      "memory usage: 1.4+ KB\n",
      "<class 'pandas.core.frame.DataFrame'>\n",
      "Int64Index: 25 entries, 1 to 25\n",
      "Data columns (total 7 columns):\n",
      "구별       25 non-null object\n",
      "인구수      25 non-null int64\n",
      "한국인      25 non-null int64\n",
      "외국인      25 non-null int64\n",
      "고령자      25 non-null int64\n",
      "외국인비율    25 non-null float64\n",
      "고령자비율    25 non-null float64\n",
      "dtypes: float64(2), int64(4), object(1)\n",
      "memory usage: 1.6+ KB\n"
     ]
    }
   ],
   "source": [
    "\"\"\" 3. 두 데이타프레임을 합치고 분석\n",
    "    (1) 두 데이타프레임의 행과 열의 수 확인\n",
    "    (2) 연결\n",
    "        먼저 합치고 필요한 컬럼을 추출하기보단\n",
    "        각각 필요한 컬럼을 추리고 나서 합치는 것을 권장\n",
    "\"\"\"\n",
    "\n",
    "cctvSeoul.info()  # 25행 7열\n",
    "popsSeoul.info()  # 25행 7열"
   ]
  },
  {
   "cell_type": "code",
   "execution_count": 4,
   "metadata": {},
   "outputs": [
    {
     "data": {
      "text/html": [
       "<div>\n",
       "<style scoped>\n",
       "    .dataframe tbody tr th:only-of-type {\n",
       "        vertical-align: middle;\n",
       "    }\n",
       "\n",
       "    .dataframe tbody tr th {\n",
       "        vertical-align: top;\n",
       "    }\n",
       "\n",
       "    .dataframe thead th {\n",
       "        text-align: right;\n",
       "    }\n",
       "</style>\n",
       "<table border=\"1\" class=\"dataframe\">\n",
       "  <thead>\n",
       "    <tr style=\"text-align: right;\">\n",
       "      <th></th>\n",
       "      <th>기관명</th>\n",
       "      <th>소계</th>\n",
       "      <th>3년간증가율</th>\n",
       "    </tr>\n",
       "  </thead>\n",
       "  <tbody>\n",
       "    <tr>\n",
       "      <th>0</th>\n",
       "      <td>강남구</td>\n",
       "      <td>3238</td>\n",
       "      <td>150.619195</td>\n",
       "    </tr>\n",
       "    <tr>\n",
       "      <th>1</th>\n",
       "      <td>강동구</td>\n",
       "      <td>1010</td>\n",
       "      <td>166.490765</td>\n",
       "    </tr>\n",
       "    <tr>\n",
       "      <th>2</th>\n",
       "      <td>강북구</td>\n",
       "      <td>831</td>\n",
       "      <td>125.203252</td>\n",
       "    </tr>\n",
       "    <tr>\n",
       "      <th>3</th>\n",
       "      <td>강서구</td>\n",
       "      <td>911</td>\n",
       "      <td>134.793814</td>\n",
       "    </tr>\n",
       "    <tr>\n",
       "      <th>4</th>\n",
       "      <td>관악구</td>\n",
       "      <td>2109</td>\n",
       "      <td>149.290780</td>\n",
       "    </tr>\n",
       "  </tbody>\n",
       "</table>\n",
       "</div>"
      ],
      "text/plain": [
       "   기관명    소계      3년간증가율\n",
       "0  강남구  3238  150.619195\n",
       "1  강동구  1010  166.490765\n",
       "2  강북구   831  125.203252\n",
       "3  강서구   911  134.793814\n",
       "4  관악구  2109  149.290780"
      ]
     },
     "execution_count": 4,
     "metadata": {},
     "output_type": "execute_result"
    }
   ],
   "source": [
    "# CCTV 데이타 프레임에서 ['기관명','소계','3년간 증가율'] 추출해도 되고\n",
    "cctvSeoul = cctvSeoul[['기관명','소계','3년간증가율']]\n",
    "\"\"\"\n",
    "    컬럼 지우기\n",
    "        del cctvSeoul['2015년']\n",
    "        del cctvSeoul['2015년']\n",
    "        del cctvSeoul['2015년']\n",
    "        del cctvSeoul['2015년']\n",
    "        \n",
    "    한 컬럼씩 밖에 못 지우나?  \n",
    "    \n",
    "    ** 행 삭제 : drop / 열 삭제\n",
    "\"\"\"\n",
    "cctvSeoul.head()"
   ]
  },
  {
   "cell_type": "code",
   "execution_count": 5,
   "metadata": {},
   "outputs": [],
   "source": [
    "# 두 데이타 프레임 합치기\n",
    "# result = pd.merge(cctvSeoul, popsSeoul, left_on='기관명', right_on='구별') # 외부조인 : how='inner|outer|left|right'\n",
    "# result.head()"
   ]
  },
  {
   "cell_type": "code",
   "execution_count": 6,
   "metadata": {},
   "outputs": [
    {
     "data": {
      "text/html": [
       "<div>\n",
       "<style scoped>\n",
       "    .dataframe tbody tr th:only-of-type {\n",
       "        vertical-align: middle;\n",
       "    }\n",
       "\n",
       "    .dataframe tbody tr th {\n",
       "        vertical-align: top;\n",
       "    }\n",
       "\n",
       "    .dataframe thead th {\n",
       "        text-align: right;\n",
       "    }\n",
       "</style>\n",
       "<table border=\"1\" class=\"dataframe\">\n",
       "  <thead>\n",
       "    <tr style=\"text-align: right;\">\n",
       "      <th></th>\n",
       "      <th>소계</th>\n",
       "      <th>3년간증가율</th>\n",
       "      <th>인구수</th>\n",
       "      <th>한국인</th>\n",
       "      <th>외국인</th>\n",
       "      <th>고령자</th>\n",
       "      <th>외국인비율</th>\n",
       "      <th>고령자비율</th>\n",
       "    </tr>\n",
       "  </thead>\n",
       "  <tbody>\n",
       "    <tr>\n",
       "      <th>강남구</th>\n",
       "      <td>3238</td>\n",
       "      <td>150.619195</td>\n",
       "      <td>547453</td>\n",
       "      <td>542364</td>\n",
       "      <td>5089</td>\n",
       "      <td>67085</td>\n",
       "      <td>0.929578</td>\n",
       "      <td>12.254020</td>\n",
       "    </tr>\n",
       "    <tr>\n",
       "      <th>강동구</th>\n",
       "      <td>1010</td>\n",
       "      <td>166.490765</td>\n",
       "      <td>431920</td>\n",
       "      <td>427573</td>\n",
       "      <td>4347</td>\n",
       "      <td>58770</td>\n",
       "      <td>1.006436</td>\n",
       "      <td>13.606686</td>\n",
       "    </tr>\n",
       "    <tr>\n",
       "      <th>강북구</th>\n",
       "      <td>831</td>\n",
       "      <td>125.203252</td>\n",
       "      <td>322915</td>\n",
       "      <td>319164</td>\n",
       "      <td>3751</td>\n",
       "      <td>58196</td>\n",
       "      <td>1.161606</td>\n",
       "      <td>18.022080</td>\n",
       "    </tr>\n",
       "    <tr>\n",
       "      <th>강서구</th>\n",
       "      <td>911</td>\n",
       "      <td>134.793814</td>\n",
       "      <td>603611</td>\n",
       "      <td>596949</td>\n",
       "      <td>6662</td>\n",
       "      <td>79660</td>\n",
       "      <td>1.103691</td>\n",
       "      <td>13.197241</td>\n",
       "    </tr>\n",
       "    <tr>\n",
       "      <th>관악구</th>\n",
       "      <td>2109</td>\n",
       "      <td>149.290780</td>\n",
       "      <td>520040</td>\n",
       "      <td>501957</td>\n",
       "      <td>18083</td>\n",
       "      <td>72249</td>\n",
       "      <td>3.477233</td>\n",
       "      <td>13.892970</td>\n",
       "    </tr>\n",
       "  </tbody>\n",
       "</table>\n",
       "</div>"
      ],
      "text/plain": [
       "       소계      3년간증가율     인구수     한국인    외국인    고령자     외국인비율      고령자비율\n",
       "강남구  3238  150.619195  547453  542364   5089  67085  0.929578  12.254020\n",
       "강동구  1010  166.490765  431920  427573   4347  58770  1.006436  13.606686\n",
       "강북구   831  125.203252  322915  319164   3751  58196  1.161606  18.022080\n",
       "강서구   911  134.793814  603611  596949   6662  79660  1.103691  13.197241\n",
       "관악구  2109  149.290780  520040  501957  18083  72249  3.477233  13.892970"
      ]
     },
     "execution_count": 6,
     "metadata": {},
     "output_type": "execute_result"
    }
   ],
   "source": [
    "# 기관명과 구별을 동일하기에 이를 하나로 하고 인덱스로 한다면?\n",
    "# 두 데이타 프레임의 인덱스를 지정\n",
    "cctvSeoul.set_index('기관명', inplace=True)\n",
    "popsSeoul.set_index('구별' , inplace=True)\n",
    "# cctvSeoul.head()\n",
    "# popsSeoul.head()\n",
    "\n",
    "result = pd.merge(cctvSeoul, popsSeoul, left_index=True, right_index=True)\n",
    "result.head()"
   ]
  },
  {
   "cell_type": "code",
   "execution_count": 7,
   "metadata": {},
   "outputs": [
    {
     "data": {
      "text/html": [
       "<div>\n",
       "<style scoped>\n",
       "    .dataframe tbody tr th:only-of-type {\n",
       "        vertical-align: middle;\n",
       "    }\n",
       "\n",
       "    .dataframe tbody tr th {\n",
       "        vertical-align: top;\n",
       "    }\n",
       "\n",
       "    .dataframe thead th {\n",
       "        text-align: right;\n",
       "    }\n",
       "</style>\n",
       "<table border=\"1\" class=\"dataframe\">\n",
       "  <thead>\n",
       "    <tr style=\"text-align: right;\">\n",
       "      <th></th>\n",
       "      <th>소계</th>\n",
       "      <th>3년간증가율</th>\n",
       "      <th>인구수</th>\n",
       "      <th>한국인</th>\n",
       "      <th>외국인</th>\n",
       "      <th>고령자</th>\n",
       "      <th>외국인비율</th>\n",
       "      <th>고령자비율</th>\n",
       "    </tr>\n",
       "  </thead>\n",
       "  <tbody>\n",
       "    <tr>\n",
       "      <th>강남구</th>\n",
       "      <td>3238</td>\n",
       "      <td>150.619195</td>\n",
       "      <td>547453</td>\n",
       "      <td>542364</td>\n",
       "      <td>5089</td>\n",
       "      <td>67085</td>\n",
       "      <td>0.929578</td>\n",
       "      <td>12.254020</td>\n",
       "    </tr>\n",
       "    <tr>\n",
       "      <th>강동구</th>\n",
       "      <td>1010</td>\n",
       "      <td>166.490765</td>\n",
       "      <td>431920</td>\n",
       "      <td>427573</td>\n",
       "      <td>4347</td>\n",
       "      <td>58770</td>\n",
       "      <td>1.006436</td>\n",
       "      <td>13.606686</td>\n",
       "    </tr>\n",
       "    <tr>\n",
       "      <th>강북구</th>\n",
       "      <td>831</td>\n",
       "      <td>125.203252</td>\n",
       "      <td>322915</td>\n",
       "      <td>319164</td>\n",
       "      <td>3751</td>\n",
       "      <td>58196</td>\n",
       "      <td>1.161606</td>\n",
       "      <td>18.022080</td>\n",
       "    </tr>\n",
       "    <tr>\n",
       "      <th>강서구</th>\n",
       "      <td>911</td>\n",
       "      <td>134.793814</td>\n",
       "      <td>603611</td>\n",
       "      <td>596949</td>\n",
       "      <td>6662</td>\n",
       "      <td>79660</td>\n",
       "      <td>1.103691</td>\n",
       "      <td>13.197241</td>\n",
       "    </tr>\n",
       "    <tr>\n",
       "      <th>관악구</th>\n",
       "      <td>2109</td>\n",
       "      <td>149.290780</td>\n",
       "      <td>520040</td>\n",
       "      <td>501957</td>\n",
       "      <td>18083</td>\n",
       "      <td>72249</td>\n",
       "      <td>3.477233</td>\n",
       "      <td>13.892970</td>\n",
       "    </tr>\n",
       "  </tbody>\n",
       "</table>\n",
       "</div>"
      ],
      "text/plain": [
       "       소계      3년간증가율     인구수     한국인    외국인    고령자     외국인비율      고령자비율\n",
       "강남구  3238  150.619195  547453  542364   5089  67085  0.929578  12.254020\n",
       "강동구  1010  166.490765  431920  427573   4347  58770  1.006436  13.606686\n",
       "강북구   831  125.203252  322915  319164   3751  58196  1.161606  18.022080\n",
       "강서구   911  134.793814  603611  596949   6662  79660  1.103691  13.197241\n",
       "관악구  2109  149.290780  520040  501957  18083  72249  3.477233  13.892970"
      ]
     },
     "execution_count": 7,
     "metadata": {},
     "output_type": "execute_result"
    }
   ],
   "source": [
    "# 다시 csv 파일로 저장한다면\n",
    "result.to_csv('data/cctv_result.csv')\n",
    "\n",
    "re = pd.read_csv('data/cctv_result.csv',encoding='utf-8', index_col=0)\n",
    "re.head()"
   ]
  },
  {
   "cell_type": "code",
   "execution_count": 8,
   "metadata": {},
   "outputs": [
    {
     "name": "stdout",
     "output_type": "stream",
     "text": [
      "[[ 1.         -0.05057013]\n",
      " [-0.05057013  1.        ]]\n",
      "[[ 1.         -0.27474224]\n",
      " [-0.27474224  1.        ]]\n",
      "[[1.         0.22152789]\n",
      " [0.22152789 1.        ]]\n"
     ]
    }
   ],
   "source": [
    "\"\"\" 4. 분석하기 \n",
    "        외국인비율, 고령자비율, 인구수와 CCTV 수와 상관있나?\n",
    "        \n",
    "        상관계수로 확인 : numpy.corrcoef()\n",
    "            0.1이하 상관없음\n",
    "            0.3이하 약한 상관관계\n",
    "            0.7이하 뚜렷한 상관관계\n",
    "\"\"\"\n",
    "import numpy as np\n",
    "\n",
    "print( np.corrcoef(result['소계'], result['외국인비율']) )\n",
    "print( np.corrcoef(result['소계'], result['고령자비율']) )\n",
    "print( np.corrcoef(result['소계'], result['인구수']) )\n",
    "\n"
   ]
  },
  {
   "cell_type": "markdown",
   "metadata": {},
   "source": [
    "#### [ 분석결과 ]\n",
    "\n",
    "cctv 개수는 외국인비율과 고령자비율과는 큰 의미가 없다고 할 수 있다.\n",
    "그러나 인구수와 cctv 개수는 약한 상관관계가 있다고 볼 수 있다."
   ]
  },
  {
   "cell_type": "code",
   "execution_count": 9,
   "metadata": {},
   "outputs": [],
   "source": [
    "\"\"\" 5. 시각화\n",
    "\n",
    "    [추가] 한글폰트 지정 - 운영체제가 Mac / Windows\n",
    "\"\"\"\n",
    "import matplotlib.pyplot as plt\n",
    "import platform\n",
    "from matplotlib import font_manager, rc\n",
    "\n",
    "if platform.system() =='Darwin':\n",
    "    rc('font', family='AppleGothic')\n",
    "elif platform.system()=='Windows':\n",
    "    path='C:/Windows/Fonts/malgun.ttf'\n",
    "    font_name=font_manager.FontProperties(fname=path).get_name()\n",
    "    rc('font', family=font_name)"
   ]
  },
  {
   "cell_type": "code",
   "execution_count": 10,
   "metadata": {},
   "outputs": [
    {
     "data": {
      "text/plain": [
       "<matplotlib.axes._subplots.AxesSubplot at 0x17a50417da0>"
      ]
     },
     "execution_count": 10,
     "metadata": {},
     "output_type": "execute_result"
    },
    {
     "data": {
      "image/png": "[encoded data removed]",
      "text/plain": [
       "<Figure size 432x288 with 1 Axes>"
      ]
     },
     "metadata": {
      "needs_background": "light"
     },
     "output_type": "display_data"
    }
   ],
   "source": [
    "#  인구수 별 그래프\n",
    "result['소계'].sort_values().plot(kind='barh', grid=True)"
   ]
  },
  {
   "cell_type": "code",
   "execution_count": 11,
   "metadata": {},
   "outputs": [
    {
     "data": {
      "text/plain": [
       "<matplotlib.axes._subplots.AxesSubplot at 0x17a512051d0>"
      ]
     },
     "execution_count": 11,
     "metadata": {},
     "output_type": "execute_result"
    },
    {
     "data": {
      "image/png": "[encoded data removed]",
      "text/plain": [
       "<Figure size 432x288 with 1 Axes>"
      ]
     },
     "metadata": {
      "needs_background": "light"
     },
     "output_type": "display_data"
    }
   ],
   "source": [
    "# 인구대비 CCTV 비율 그래프 \n",
    "#  -  CCTV비율 컬럼을 먼저 추가하고 그 컬럼으로 그래프\n",
    "result['CCTV비율'] = result['소계']/result['인구수'] * 100\n",
    "result['CCTV비율'].sort_values().plot(kind='barh', grid=True)"
   ]
  },
  {
   "cell_type": "code",
   "execution_count": 12,
   "metadata": {
    "scrolled": true
   },
   "outputs": [
    {
     "data": {
      "image/png": "[encoded data removed]",
      "text/plain": [
       "<Figure size 576x576 with 1 Axes>"
      ]
     },
     "metadata": {
      "needs_background": "light"
     },
     "output_type": "display_data"
    }
   ],
   "source": [
    "# 인구수와 CCTV 수를 그래프로 나타내려면 -> 이변량 -> scatter\n",
    "plt.figure(figsize=(8,8))\n",
    "plt.scatter(result['인구수'], result['소계'])\n",
    "plt.xlabel('인구수')\n",
    "plt.ylabel('CCTV')\n",
    "plt.grid()"
   ]
  },
  {
   "cell_type": "markdown",
   "metadata": {},
   "source": []
  },
  {
   "cell_type": "markdown",
   "metadata": {},
   "source": [
    "---\n",
    "여기까지만 하자\n",
    "---"
   ]
  },
  {
   "cell_type": "code",
   "execution_count": 13,
   "metadata": {},
   "outputs": [
    {
     "data": {
      "text/plain": [
       "\"\\n# (3) 위의 상태가 실데이타라서 중심을 되는 직선을 찾고 싶다면\\n#   (3-1) 기울기와 절편을 구한다 : y = 기울기 * x +  절편\\nfp1 = np.polyfit(t, y_noise, 1) # 1차수\\nfp1\\n#   (3-2) 다항식 코드를 사용하기 위해 poly1d 클래스를 이용하여 함수를 만들어야 한다\\nf1 = np.poly1d(fp1)\\nf1\\n\\nplt.plot(t, y_noise, label='noise', color='y')\\nplt.plot(t, f1(t), lw=2, color='r', label='polyfit')\\nplt.grid()\\nplt.legend()\\n\""
      ]
     },
     "execution_count": 13,
     "metadata": {},
     "output_type": "execute_result"
    }
   ],
   "source": [
    "# [이해]  Numpy의 polyfit과 poly1d\n",
    "# [참고] https://pinkwink.kr/1127 : 파이썬으로 데이터 주무르기 저자의 사이트\n",
    "\n",
    "\"\"\"\n",
    "# (1) 단순직선\n",
    "t = np.arange(0, 10, 0.01)\n",
    "y = 3*t + 5\n",
    "\n",
    "plt.figure(figsize=(12,8))\n",
    "plt.plot(t, y)\n",
    "\"\"\"\n",
    "\n",
    "\"\"\"\n",
    "# (2) 직선을 중심으로 변형\n",
    "y_noise = y + np.random.randn(len(y))\n",
    "\n",
    "plt.figure(figsize=(12,8))\n",
    "plt.plot(t, y_noise)\n",
    "\"\"\"\n",
    "\n",
    "\"\"\"\n",
    "# (3) 위의 상태가 실데이타라서 중심을 되는 직선을 찾고 싶다면\n",
    "#   (3-1) 기울기와 절편을 구한다 : y = 기울기 * x +  절편\n",
    "fp1 = np.polyfit(t, y_noise, 1) # 1차수\n",
    "fp1\n",
    "#   (3-2) 다항식 코드를 사용하기 위해 poly1d 클래스를 이용하여 함수를 만들어야 한다\n",
    "f1 = np.poly1d(fp1)\n",
    "f1\n",
    "\n",
    "plt.plot(t, y_noise, label='noise', color='y')\n",
    "plt.plot(t, f1(t), lw=2, color='r', label='polyfit')\n",
    "plt.grid()\n",
    "plt.legend()\n",
    "\"\"\""
   ]
  },
  {
   "cell_type": "code",
   "execution_count": 14,
   "metadata": {},
   "outputs": [
    {
     "data": {
      "text/plain": [
       "[<matplotlib.lines.Line2D at 0x17a51000a90>]"
      ]
     },
     "execution_count": 14,
     "metadata": {},
     "output_type": "execute_result"
    },
    {
     "data": {
      "image/png": "[encoded data removed]",
      "text/plain": [
       "<Figure size 576x576 with 1 Axes>"
      ]
     },
     "metadata": {
      "needs_background": "light"
     },
     "output_type": "display_data"
    }
   ],
   "source": [
    "# 기준선(?) 표시하려면 -> 하지말자\n",
    "\n",
    "lx = np.linspace(100000, 700000, 100)\n",
    "pf = np.polyfit(result['인구수'],result['소계'], 1)  # 1차수\n",
    "pf\n",
    "f1 = np.poly1d(pf)\n",
    "f1\n",
    "\n",
    "plt.figure(figsize=(8,8))\n",
    "plt.scatter(result['인구수'], result['소계'])\n",
    "plt.xlabel('인구수')\n",
    "plt.ylabel('CCTV')\n",
    "plt.grid()\n",
    "plt.plot(lx, f1(lx), ls='dashed', lw=2, color='r')"
   ]
  },
  {
   "cell_type": "markdown",
   "metadata": {},
   "source": [
    "[ 그래프 분석 ] 이 그래프를 보고\n",
    "\n",
    "인구수 400000명당 1500대의 CCTV는 갖춰여야 한다는 것을 보여주고 싶다면\n",
    "\n",
    "이 직선과 먼 부분을 다른색으로 표시한다\n",
    "\n",
    "[참고] 다른 색으로 변경하고자 한다면\n",
    "https://frhyme.github.io/python-lib/matplotlib_extracting_color_from_cmap/"
   ]
  },
  {
   "cell_type": "code",
   "execution_count": 15,
   "metadata": {},
   "outputs": [
    {
     "data": {
      "text/html": [
       "<div>\n",
       "<style scoped>\n",
       "    .dataframe tbody tr th:only-of-type {\n",
       "        vertical-align: middle;\n",
       "    }\n",
       "\n",
       "    .dataframe tbody tr th {\n",
       "        vertical-align: top;\n",
       "    }\n",
       "\n",
       "    .dataframe thead th {\n",
       "        text-align: right;\n",
       "    }\n",
       "</style>\n",
       "<table border=\"1\" class=\"dataframe\">\n",
       "  <thead>\n",
       "    <tr style=\"text-align: right;\">\n",
       "      <th></th>\n",
       "      <th>소계</th>\n",
       "      <th>3년간증가율</th>\n",
       "      <th>인구수</th>\n",
       "      <th>한국인</th>\n",
       "      <th>외국인</th>\n",
       "      <th>고령자</th>\n",
       "      <th>외국인비율</th>\n",
       "      <th>고령자비율</th>\n",
       "      <th>CCTV비율</th>\n",
       "      <th>차이값</th>\n",
       "    </tr>\n",
       "  </thead>\n",
       "  <tbody>\n",
       "    <tr>\n",
       "      <th>강남구</th>\n",
       "      <td>3238</td>\n",
       "      <td>150.619195</td>\n",
       "      <td>547453</td>\n",
       "      <td>542364</td>\n",
       "      <td>5089</td>\n",
       "      <td>67085</td>\n",
       "      <td>0.929578</td>\n",
       "      <td>12.254020</td>\n",
       "      <td>0.591466</td>\n",
       "      <td>1566.538319</td>\n",
       "    </tr>\n",
       "    <tr>\n",
       "      <th>양천구</th>\n",
       "      <td>2482</td>\n",
       "      <td>34.671731</td>\n",
       "      <td>468145</td>\n",
       "      <td>464185</td>\n",
       "      <td>3960</td>\n",
       "      <td>58045</td>\n",
       "      <td>0.845892</td>\n",
       "      <td>12.398936</td>\n",
       "      <td>0.530178</td>\n",
       "      <td>895.665104</td>\n",
       "    </tr>\n",
       "    <tr>\n",
       "      <th>강서구</th>\n",
       "      <td>911</td>\n",
       "      <td>134.793814</td>\n",
       "      <td>603611</td>\n",
       "      <td>596949</td>\n",
       "      <td>6662</td>\n",
       "      <td>79660</td>\n",
       "      <td>1.103691</td>\n",
       "      <td>13.197241</td>\n",
       "      <td>0.150925</td>\n",
       "      <td>820.739963</td>\n",
       "    </tr>\n",
       "    <tr>\n",
       "      <th>용산구</th>\n",
       "      <td>2096</td>\n",
       "      <td>53.216374</td>\n",
       "      <td>245090</td>\n",
       "      <td>228999</td>\n",
       "      <td>16091</td>\n",
       "      <td>37640</td>\n",
       "      <td>6.565343</td>\n",
       "      <td>15.357624</td>\n",
       "      <td>0.855196</td>\n",
       "      <td>749.085528</td>\n",
       "    </tr>\n",
       "    <tr>\n",
       "      <th>서초구</th>\n",
       "      <td>2297</td>\n",
       "      <td>63.371266</td>\n",
       "      <td>438163</td>\n",
       "      <td>433951</td>\n",
       "      <td>4212</td>\n",
       "      <td>54751</td>\n",
       "      <td>0.961286</td>\n",
       "      <td>12.495578</td>\n",
       "      <td>0.524234</td>\n",
       "      <td>742.846867</td>\n",
       "    </tr>\n",
       "  </tbody>\n",
       "</table>\n",
       "</div>"
      ],
      "text/plain": [
       "       소계      3년간증가율     인구수     한국인    외국인    고령자     외국인비율      고령자비율  \\\n",
       "강남구  3238  150.619195  547453  542364   5089  67085  0.929578  12.254020   \n",
       "양천구  2482   34.671731  468145  464185   3960  58045  0.845892  12.398936   \n",
       "강서구   911  134.793814  603611  596949   6662  79660  1.103691  13.197241   \n",
       "용산구  2096   53.216374  245090  228999  16091  37640  6.565343  15.357624   \n",
       "서초구  2297   63.371266  438163  433951   4212  54751  0.961286  12.495578   \n",
       "\n",
       "       CCTV비율          차이값  \n",
       "강남구  0.591466  1566.538319  \n",
       "양천구  0.530178   895.665104  \n",
       "강서구  0.150925   820.739963  \n",
       "용산구  0.855196   749.085528  \n",
       "서초구  0.524234   742.846867  "
      ]
     },
     "execution_count": 15,
     "metadata": {},
     "output_type": "execute_result"
    },
    {
     "data": {
      "image/png": "[encoded data removed]",
      "text/plain": [
       "<Figure size 720x720 with 2 Axes>"
      ]
     },
     "metadata": {
      "needs_background": "light"
     },
     "output_type": "display_data"
    }
   ],
   "source": [
    "# 기준되는 선과의 차이값을 추가\n",
    "result['차이값'] = result['소계']- f1(result['인구수'])\n",
    "result['차이값']\n",
    "\n",
    "result['차이값'] = np.abs( result['소계']- f1(result['인구수']) )\n",
    "result['차이값']\n",
    "\n",
    "\n",
    "plt.figure(figsize=(10,10))\n",
    "plt.scatter(result['인구수'], result['소계'], c=result['차이값'])\n",
    "plt.colorbar()\n",
    "plt.xlabel('인구수')\n",
    "plt.ylabel('CCTV')\n",
    "plt.grid()\n",
    "plt.plot(lx, f1(lx), ls='dashed', lw=2, color='r')\n",
    "\n",
    "# 차이가 많이 나는 10지역을 표시하려면?\n",
    "# 우선 차이값으로 정렬을 해야 한다\n",
    "df_sort = result.sort_values(by='차이값', ascending=False)\n",
    "df_sort.head()\n"
   ]
  },
  {
   "cell_type": "markdown",
   "metadata": {},
   "source": [
    "[ 그래프 분석결과 ]\n",
    "\n",
    "강남구, 양천구, 서초구, 용산구는 CCTV가 많이 설치된 곳이다.\n",
    "\n",
    "송파구, 강서구는 CCTV가 적게 설치된 곳이다."
   ]
  }
 ],
 "metadata": {
  "kernelspec": {
   "display_name": "Python 3",
   "language": "python",
   "name": "python3"
  },
  "language_info": {
   "codemirror_mode": {
    "name": "ipython",
    "version": 3
   },
   "file_extension": ".py",
   "mimetype": "text/x-python",
   "name": "python",
   "nbconvert_exporter": "python",
   "pygments_lexer": "ipython3",
   "version": "3.7.6"
  }
 },
 "nbformat": 4,
 "nbformat_minor": 2
}
