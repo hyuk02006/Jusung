{
 "cells": [
  {
   "cell_type": "markdown",
   "metadata": {},
   "source": [
    "[예제] 파이썬의 데이타 주무르기\n",
    "\n",
    "\n",
    "## 네이버 영화 사이트 : http://www.naver.com\n",
    "\n",
    "      왼쪽메뉴 '영화랭킹' > '평점순(현재상영영화) 탭\n",
    "      \n",
    "      https://movie.naver.com/movie/sdb/rank/rmovie.nhn?sel=cur&date=20190301"
   ]
  },
  {
   "cell_type": "code",
   "execution_count": 3,
   "metadata": {},
   "outputs": [],
   "source": [
    "import pandas as pd\n",
    "from bs4 import BeautifulSoup\n",
    "from urllib import request as req\n",
    "\n",
    "url = 'https://movie.naver.com/movie/sdb/rank/rmovie.nhn?sel=cur&date=20190301'\n",
    "res = req.urlopen(url)\n",
    "soup =  BeautifulSoup(res, 'html.parser')"
   ]
  },
  {
   "cell_type": "code",
   "execution_count": 11,
   "metadata": {},
   "outputs": [
    {
     "data": {
      "text/plain": [
       "42"
      ]
     },
     "execution_count": 11,
     "metadata": {},
     "output_type": "execute_result"
    }
   ],
   "source": [
    "# 페이지에서 제목과 평점을 추출\n",
    "soup.find_all('div','tit5')\n",
    "soup.find_all('div','tit5')[0].a.string\n",
    "\n",
    "soup.find_all('td','point')\n",
    "soup.find_all('td','point')[0].string\n"
   ]
  },
  {
   "cell_type": "code",
   "execution_count": 19,
   "metadata": {
    "collapsed": true
   },
   "outputs": [
    {
     "data": {
      "text/plain": [
       "['9.63',\n",
       " '9.60',\n",
       " '9.43',\n",
       " '9.41',\n",
       " '9.40',\n",
       " '9.36',\n",
       " '9.27',\n",
       " '9.23',\n",
       " '9.21',\n",
       " '9.19',\n",
       " '9.18',\n",
       " '9.15',\n",
       " '9.10',\n",
       " '9.09',\n",
       " '9.08',\n",
       " '9.06',\n",
       " '8.88',\n",
       " '8.84',\n",
       " '8.84',\n",
       " '8.80',\n",
       " '8.78',\n",
       " '8.78',\n",
       " '8.77',\n",
       " '8.72',\n",
       " '8.72',\n",
       " '8.66',\n",
       " '8.61',\n",
       " '8.43',\n",
       " '8.41',\n",
       " '8.32',\n",
       " '7.88',\n",
       " '7.80',\n",
       " '7.50',\n",
       " '7.22',\n",
       " '7.10',\n",
       " '6.98',\n",
       " '6.40',\n",
       " '6.31',\n",
       " '6.12',\n",
       " '5.88',\n",
       " '5.68',\n",
       " '4.15']"
      ]
     },
     "execution_count": 19,
     "metadata": {},
     "output_type": "execute_result"
    }
   ],
   "source": [
    "# 전체 갯수를 얻어오기\n",
    "# 앞의 숫자가 이미지파일이기에 포인트변수의 갯수로 영화수를 얻어온다\n",
    "su = len(soup.find_all('td','point'))\n",
    "su\n",
    "\n",
    "# 제목과 평점을 우선 변수에 저장\n",
    "movie_name = []\n",
    "movie_point = []\n",
    "\n",
    "movie_name.extend([soup.find_all('div','tit5')[n].a.string for n in range(0, su)])\n",
    "movie_name\n",
    "\n",
    "movie_point.extend([soup.find_all('td','point')[n].string for n in range(0, su)])\n",
    "movie_point"
   ]
  },
  {
   "cell_type": "markdown",
   "metadata": {},
   "source": [
    "* append와 extend 차이\n",
    "\n",
    "    + append()는 object를 맨 뒤에 추가합니다.\n",
    "\n",
    "    x = [1, 2, 3]\n",
    "    x.append([4, 5])\n",
    "    print (x)\n",
    "    [1, 2, 3, [4, 5]]\n",
    "\n",
    "    + extend()는 iterable 객체(리스트, 튜플, 딕셔너리 등)의 엘레멘트를 list에 appending시킵니다.\n",
    "\n",
    "    x = [1, 2, 3]\n",
    "    x.extend([4, 5])\n",
    "    print (x)\n",
    "    [1, 2, 3, 4, 5]"
   ]
  },
  {
   "cell_type": "code",
   "execution_count": 29,
   "metadata": {},
   "outputs": [
    {
     "data": {
      "text/html": [
       "<div>\n",
       "<style scoped>\n",
       "    .dataframe tbody tr th:only-of-type {\n",
       "        vertical-align: middle;\n",
       "    }\n",
       "\n",
       "    .dataframe tbody tr th {\n",
       "        vertical-align: top;\n",
       "    }\n",
       "\n",
       "    .dataframe thead th {\n",
       "        text-align: right;\n",
       "    }\n",
       "</style>\n",
       "<table border=\"1\" class=\"dataframe\">\n",
       "  <thead>\n",
       "    <tr style=\"text-align: right;\">\n",
       "      <th></th>\n",
       "      <th>name</th>\n",
       "      <th>point</th>\n",
       "      <th>date</th>\n",
       "    </tr>\n",
       "  </thead>\n",
       "  <tbody>\n",
       "    <tr>\n",
       "      <th>0</th>\n",
       "      <td>그린 북</td>\n",
       "      <td>9.63</td>\n",
       "      <td>2019-03-02</td>\n",
       "    </tr>\n",
       "    <tr>\n",
       "      <th>1</th>\n",
       "      <td>가버나움</td>\n",
       "      <td>9.60</td>\n",
       "      <td>2019-03-02</td>\n",
       "    </tr>\n",
       "    <tr>\n",
       "      <th>2</th>\n",
       "      <td>보헤미안 랩소디</td>\n",
       "      <td>9.43</td>\n",
       "      <td>2019-03-02</td>\n",
       "    </tr>\n",
       "    <tr>\n",
       "      <th>3</th>\n",
       "      <td>언더독</td>\n",
       "      <td>9.41</td>\n",
       "      <td>2019-03-02</td>\n",
       "    </tr>\n",
       "    <tr>\n",
       "      <th>4</th>\n",
       "      <td>폴란드로 간 아이들</td>\n",
       "      <td>9.40</td>\n",
       "      <td>2019-03-02</td>\n",
       "    </tr>\n",
       "  </tbody>\n",
       "</table>\n",
       "</div>"
      ],
      "text/plain": [
       "         name point        date\n",
       "0        그린 북  9.63  2019-03-02\n",
       "1        가버나움  9.60  2019-03-02\n",
       "2    보헤미안 랩소디  9.43  2019-03-02\n",
       "3         언더독  9.41  2019-03-02\n",
       "4  폴란드로 간 아이들  9.40  2019-03-02"
      ]
     },
     "execution_count": 29,
     "metadata": {},
     "output_type": "execute_result"
    }
   ],
   "source": [
    "# 데이타프레임 형식으로 만들기\n",
    "movie = pd.DataFrame({'name': movie_name, 'point':movie_point})\n",
    "movie.head()\n",
    "\n",
    "# 오늘날짜로 date 컬럼 추가\n",
    "import datetime\n",
    "datetime.date.today()\n",
    "\n",
    "movie['date']=datetime.date.today()\n",
    "movie.head()"
   ]
  },
  {
   "cell_type": "code",
   "execution_count": 32,
   "metadata": {
    "collapsed": true
   },
   "outputs": [
    {
     "name": "stdout",
     "output_type": "stream",
     "text": [
      "2019-03-02\n",
      "2019-02-20\n",
      "DatetimeIndex(['2022-09-01', '2022-09-02', '2022-09-03', '2022-09-04',\n",
      "               '2022-09-05', '2022-09-06', '2022-09-07', '2022-09-08',\n",
      "               '2022-09-09', '2022-09-10', '2022-09-11', '2022-09-12',\n",
      "               '2022-09-13', '2022-09-14', '2022-09-15', '2022-09-16',\n",
      "               '2022-09-17', '2022-09-18', '2022-09-19', '2022-09-20',\n",
      "               '2022-09-21', '2022-09-22', '2022-09-23', '2022-09-24',\n",
      "               '2022-09-25', '2022-09-26', '2022-09-27', '2022-09-28',\n",
      "               '2022-09-29', '2022-09-30', '2022-10-01', '2022-10-02',\n",
      "               '2022-10-03', '2022-10-04', '2022-10-05', '2022-10-06',\n",
      "               '2022-10-07', '2022-10-08', '2022-10-09', '2022-10-10',\n",
      "               '2022-10-11', '2022-10-12', '2022-10-13', '2022-10-14',\n",
      "               '2022-10-15', '2022-10-16', '2022-10-17', '2022-10-18',\n",
      "               '2022-10-19', '2022-10-20', '2022-10-21', '2022-10-22',\n",
      "               '2022-10-23', '2022-10-24', '2022-10-25', '2022-10-26',\n",
      "               '2022-10-27', '2022-10-28', '2022-10-29', '2022-10-30',\n",
      "               '2022-10-31'],\n",
      "              dtype='datetime64[ns]', freq='D')\n"
     ]
    }
   ],
   "source": [
    "# 날짜 계산하기\n",
    "\n",
    "today = datetime.date.today()\n",
    "print(today)\n",
    "theday = today + datetime.timedelta(-10)\n",
    "print(theday)\n",
    "\n",
    "dt_index = pd.date_range(start='2022-09-01', end='2022-10-31')\n",
    "print(dt_index)"
   ]
  },
  {
   "cell_type": "markdown",
   "metadata": {},
   "source": [
    "### 10일 동안의 영화 평점 데이타 얻어오기\n",
    "\n"
   ]
  },
  {
   "cell_type": "code",
   "execution_count": 39,
   "metadata": {},
   "outputs": [
    {
     "data": {
      "text/plain": [
       "DatetimeIndex(['2019-02-20', '2019-02-21', '2019-02-22', '2019-02-23',\n",
       "               '2019-02-24', '2019-02-25', '2019-02-26', '2019-02-27',\n",
       "               '2019-02-28', '2019-03-01', '2019-03-02'],\n",
       "              dtype='datetime64[ns]', freq='D')"
      ]
     },
     "execution_count": 39,
     "metadata": {},
     "output_type": "execute_result"
    }
   ],
   "source": [
    "# (1) 10일전부터 오늘날짜까지의 날짜를 구하기\n",
    "today = datetime.date.today()\n",
    "theday = today + datetime.timedelta(-10)\n",
    "m_date = pd.date_range(start=theday, end=today)\n",
    "m_date\n",
    "\n"
   ]
  },
  {
   "cell_type": "code",
   "execution_count": 81,
   "metadata": {},
   "outputs": [
    {
     "ename": "TypeError",
     "evalue": "int() argument must be a string, a bytes-like object or a number, not 'generator'",
     "output_type": "error",
     "traceback": [
      "\u001b[1;31m---------------------------------------------------------------------------\u001b[0m",
      "\u001b[1;31mTypeError\u001b[0m                                 Traceback (most recent call last)",
      "\u001b[1;32m<ipython-input-81-980ba2bbc70c>\u001b[0m in \u001b[0;36m<module>\u001b[1;34m\u001b[0m\n\u001b[0;32m     14\u001b[0m \u001b[1;33m\u001b[0m\u001b[0m\n\u001b[0;32m     15\u001b[0m     \u001b[0mmovie_name\u001b[0m\u001b[1;33m.\u001b[0m\u001b[0mextend\u001b[0m\u001b[1;33m(\u001b[0m\u001b[1;33m[\u001b[0m\u001b[0msoup\u001b[0m\u001b[1;33m.\u001b[0m\u001b[0mfind_all\u001b[0m\u001b[1;33m(\u001b[0m\u001b[1;34m'div'\u001b[0m\u001b[1;33m,\u001b[0m\u001b[1;34m'tit5'\u001b[0m\u001b[1;33m)\u001b[0m\u001b[1;33m[\u001b[0m\u001b[0mn\u001b[0m\u001b[1;33m]\u001b[0m\u001b[1;33m.\u001b[0m\u001b[0ma\u001b[0m\u001b[1;33m.\u001b[0m\u001b[0mstring\u001b[0m \u001b[1;32mfor\u001b[0m \u001b[0mn\u001b[0m \u001b[1;32min\u001b[0m \u001b[0mrange\u001b[0m\u001b[1;33m(\u001b[0m\u001b[1;36m0\u001b[0m\u001b[1;33m,\u001b[0m \u001b[0msu\u001b[0m\u001b[1;33m)\u001b[0m\u001b[1;33m]\u001b[0m\u001b[1;33m)\u001b[0m\u001b[1;33m\u001b[0m\u001b[1;33m\u001b[0m\u001b[0m\n\u001b[1;32m---> 16\u001b[1;33m     \u001b[0mmovie_point\u001b[0m\u001b[1;33m.\u001b[0m\u001b[0mextend\u001b[0m\u001b[1;33m(\u001b[0m\u001b[1;33m[\u001b[0m \u001b[0mint\u001b[0m\u001b[1;33m(\u001b[0m\u001b[0msoup\u001b[0m\u001b[1;33m.\u001b[0m\u001b[0mfind_all\u001b[0m\u001b[1;33m(\u001b[0m\u001b[1;34m'td'\u001b[0m\u001b[1;33m,\u001b[0m\u001b[1;34m'point'\u001b[0m\u001b[1;33m)\u001b[0m\u001b[1;33m[\u001b[0m\u001b[0mn\u001b[0m\u001b[1;33m]\u001b[0m\u001b[1;33m.\u001b[0m\u001b[0mstring\u001b[0m \u001b[1;32mfor\u001b[0m \u001b[0mn\u001b[0m \u001b[1;32min\u001b[0m \u001b[0mrange\u001b[0m\u001b[1;33m(\u001b[0m\u001b[1;36m0\u001b[0m\u001b[1;33m,\u001b[0m \u001b[0msu\u001b[0m\u001b[1;33m)\u001b[0m\u001b[1;33m)\u001b[0m \u001b[1;33m]\u001b[0m\u001b[1;33m)\u001b[0m\u001b[1;33m\u001b[0m\u001b[1;33m\u001b[0m\u001b[0m\n\u001b[0m\u001b[0;32m     17\u001b[0m     \u001b[0mmovie_date\u001b[0m\u001b[1;33m.\u001b[0m\u001b[0mextend\u001b[0m\u001b[1;33m(\u001b[0m\u001b[1;33m[\u001b[0m\u001b[0mday\u001b[0m \u001b[1;32mfor\u001b[0m \u001b[0mn\u001b[0m \u001b[1;32min\u001b[0m \u001b[0mrange\u001b[0m\u001b[1;33m(\u001b[0m\u001b[1;36m0\u001b[0m\u001b[1;33m,\u001b[0m\u001b[0msu\u001b[0m\u001b[1;33m)\u001b[0m\u001b[1;33m]\u001b[0m\u001b[1;33m)\u001b[0m\u001b[1;33m\u001b[0m\u001b[1;33m\u001b[0m\u001b[0m\n",
      "\u001b[1;31mTypeError\u001b[0m: int() argument must be a string, a bytes-like object or a number, not 'generator'"
     ]
    }
   ],
   "source": [
    "# (2) 날짜를 변경하면서 다시 웹에서 데이타를 가져와서 변수에 지정\n",
    "movie_date=[]\n",
    "movie_name=[]\n",
    "movie_point=[]\n",
    "\n",
    "for day in m_date:\n",
    "    # print(day)\n",
    "    # print(day.strftime(\"%Y%m%d\"))\n",
    "    url = 'https://movie.naver.com/movie/sdb/rank/rmovie.nhn?sel=cur&date={day}'\n",
    "    res = req.urlopen( url.format(day=day.strftime(\"%Y%m%d\")))\n",
    "    soup =  BeautifulSoup(res, 'html.parser')\n",
    "    \n",
    "    su = len(soup.find_all('td','point'))\n",
    "    \n",
    "    movie_name.extend([soup.find_all('div','tit5')[n].a.string for n in range(0, su)])\n",
    "    movie_point.extend([soup.find_all('td','point')[n].string for n in range(0, su)])\n",
    "    movie_date.extend([day for n in range(0,su)])\n"
   ]
  },
  {
   "cell_type": "code",
   "execution_count": 74,
   "metadata": {},
   "outputs": [
    {
     "data": {
      "text/plain": [
       "460"
      ]
     },
     "execution_count": 74,
     "metadata": {},
     "output_type": "execute_result"
    }
   ],
   "source": [
    "len( movie_name )\n",
    "len( movie_point )\n",
    "len( movie_date )"
   ]
  },
  {
   "cell_type": "code",
   "execution_count": 76,
   "metadata": {},
   "outputs": [
    {
     "data": {
      "text/html": [
       "<div>\n",
       "<style scoped>\n",
       "    .dataframe tbody tr th:only-of-type {\n",
       "        vertical-align: middle;\n",
       "    }\n",
       "\n",
       "    .dataframe tbody tr th {\n",
       "        vertical-align: top;\n",
       "    }\n",
       "\n",
       "    .dataframe thead th {\n",
       "        text-align: right;\n",
       "    }\n",
       "</style>\n",
       "<table border=\"1\" class=\"dataframe\">\n",
       "  <thead>\n",
       "    <tr style=\"text-align: right;\">\n",
       "      <th></th>\n",
       "      <th>date</th>\n",
       "      <th>name</th>\n",
       "      <th>point</th>\n",
       "    </tr>\n",
       "  </thead>\n",
       "  <tbody>\n",
       "    <tr>\n",
       "      <th>0</th>\n",
       "      <td>2019-02-20</td>\n",
       "      <td>그린 북</td>\n",
       "      <td>9.65</td>\n",
       "    </tr>\n",
       "    <tr>\n",
       "      <th>1</th>\n",
       "      <td>2019-02-20</td>\n",
       "      <td>가버나움</td>\n",
       "      <td>9.58</td>\n",
       "    </tr>\n",
       "    <tr>\n",
       "      <th>2</th>\n",
       "      <td>2019-02-20</td>\n",
       "      <td>보헤미안 랩소디</td>\n",
       "      <td>9.43</td>\n",
       "    </tr>\n",
       "    <tr>\n",
       "      <th>3</th>\n",
       "      <td>2019-02-20</td>\n",
       "      <td>언더독</td>\n",
       "      <td>9.43</td>\n",
       "    </tr>\n",
       "    <tr>\n",
       "      <th>4</th>\n",
       "      <td>2019-02-20</td>\n",
       "      <td>폴란드로 간 아이들</td>\n",
       "      <td>9.40</td>\n",
       "    </tr>\n",
       "  </tbody>\n",
       "</table>\n",
       "</div>"
      ],
      "text/plain": [
       "        date        name point\n",
       "0 2019-02-20        그린 북  9.65\n",
       "1 2019-02-20        가버나움  9.58\n",
       "2 2019-02-20    보헤미안 랩소디  9.43\n",
       "3 2019-02-20         언더독  9.43\n",
       "4 2019-02-20  폴란드로 간 아이들  9.40"
      ]
     },
     "execution_count": 76,
     "metadata": {},
     "output_type": "execute_result"
    }
   ],
   "source": [
    "# (3) 생성한 리스트변수들을 데이타프레임으로 생성\n",
    "movie = pd.DataFrame({'date': movie_date, 'name': movie_name, 'point':movie_point})\n",
    "movie.head()\n",
    "movie.info()\n",
    "movie.tail()"
   ]
  },
  {
   "cell_type": "code",
   "execution_count": 77,
   "metadata": {
    "collapsed": true
   },
   "outputs": [
    {
     "data": {
      "image/png": "[encoded data removed]",
      "text/plain": [
       "<Figure size 864x576 with 1 Axes>"
      ]
     },
     "metadata": {
      "needs_background": "light"
     },
     "output_type": "display_data"
    }
   ],
   "source": [
    "# (4) 영화하나를 선택하여 날짜별 평점을 그래프로\n",
    "temp = movie.query('name==[\"보헤미안 랩소디\"]')\n",
    "temp.head()\n",
    "\n",
    "\n",
    "%matplotlib inline\n",
    "import matplotlib.pyplot as plt\n",
    "\n",
    "\n",
    "plt.figure(figsize=(12,8))\n",
    "plt.plot(temp['date'], temp['point'])\n",
    "plt.grid()"
   ]
  },
  {
   "cell_type": "code",
   "execution_count": 89,
   "metadata": {},
   "outputs": [
    {
     "data": {
      "text/html": [
       "<div>\n",
       "<style scoped>\n",
       "    .dataframe tbody tr th:only-of-type {\n",
       "        vertical-align: middle;\n",
       "    }\n",
       "\n",
       "    .dataframe tbody tr th {\n",
       "        vertical-align: top;\n",
       "    }\n",
       "\n",
       "    .dataframe thead th {\n",
       "        text-align: right;\n",
       "    }\n",
       "</style>\n",
       "<table border=\"1\" class=\"dataframe\">\n",
       "  <thead>\n",
       "    <tr style=\"text-align: right;\">\n",
       "      <th></th>\n",
       "      <th>point</th>\n",
       "    </tr>\n",
       "    <tr>\n",
       "      <th>name</th>\n",
       "      <th></th>\n",
       "    </tr>\n",
       "  </thead>\n",
       "  <tbody>\n",
       "    <tr>\n",
       "      <th>그린 북</th>\n",
       "      <td>106.01</td>\n",
       "    </tr>\n",
       "    <tr>\n",
       "      <th>가버나움</th>\n",
       "      <td>105.55</td>\n",
       "    </tr>\n",
       "    <tr>\n",
       "      <th>보헤미안 랩소디</th>\n",
       "      <td>103.75</td>\n",
       "    </tr>\n",
       "    <tr>\n",
       "      <th>언더독</th>\n",
       "      <td>103.53</td>\n",
       "    </tr>\n",
       "    <tr>\n",
       "      <th>폴란드로 간 아이들</th>\n",
       "      <td>103.40</td>\n",
       "    </tr>\n",
       "  </tbody>\n",
       "</table>\n",
       "</div>"
      ],
      "text/plain": [
       "             point\n",
       "name              \n",
       "그린 북        106.01\n",
       "가버나움        105.55\n",
       "보헤미안 랩소디    103.75\n",
       "언더독         103.53\n",
       "폴란드로 간 아이들  103.40"
      ]
     },
     "execution_count": 89,
     "metadata": {},
     "output_type": "execute_result"
    }
   ],
   "source": [
    "# 영화별 평점 합산한다면 - pivot_table\n",
    "import numpy as np\n",
    "bymovies = pd.pivot_table( movie, index=['name'], aggfunc=np.sum )\n",
    "bymovies.head()\n",
    "\n",
    "# 포인트가 숫자값이 아닌 문자열값이였다\n",
    "# 데이타 타입을 변경\n",
    "movie['point'] = movie['point'].astype(float)\n",
    "\n",
    "# 다시 피봇테이블 확인\n",
    "bymovies = pd.pivot_table( movie, index=['name'], aggfunc=np.sum )\n",
    "bymovies.head()\n",
    "\n",
    "# 평점순으로 확인\n",
    "bymovies.sort_values(by='point', ascending=False).head()"
   ]
  }
 ],
 "metadata": {
  "kernelspec": {
   "display_name": "Python 3",
   "language": "python",
   "name": "python3"
  },
  "language_info": {
   "codemirror_mode": {
    "name": "ipython",
    "version": 3
   },
   "file_extension": ".py",
   "mimetype": "text/x-python",
   "name": "python",
   "nbconvert_exporter": "python",
   "pygments_lexer": "ipython3",
   "version": "3.6.8"
  }
 },
 "nbformat": 4,
 "nbformat_minor": 2
}
