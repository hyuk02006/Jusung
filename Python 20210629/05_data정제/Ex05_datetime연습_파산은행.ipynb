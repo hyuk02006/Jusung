{
 "cells": [
  {
   "cell_type": "markdown",
   "metadata": {},
   "source": [
    "##  파산한 은행 데이타집합에서 분기별 은행수를 계산하기\n",
    "\n",
    "\n",
    "    1. 먼저 데이타 구조를 파악하기\n",
    "\n",
    "    2. 'Closing Date' 날짜 항목을 datetime 오브젝트로 변경하기\n",
    "\n",
    "    3. 'Closing Date' 날짜 정보에서 dt 접근자를 이용하여 연도(year)와 분기(quarter)를 구하기\n",
    "\n",
    "    4.  연도별 파산은행 수 구하기\n",
    "\n",
    "    5. 연도별, 분기별 파산은행 수 구하기\n",
    "\n",
    "    6. 정보 시각화\n",
    "    \n",
    "    \n",
    "    [도서] Do it 데이타분석을 위한 판다스 입문"
   ]
  },
  {
   "cell_type": "code",
   "execution_count": 5,
   "metadata": {
    "scrolled": true
   },
   "outputs": [
    {
     "name": "stdout",
     "output_type": "stream",
     "text": [
      "<class 'pandas.core.frame.DataFrame'>\n",
      "RangeIndex: 555 entries, 0 to 554\n",
      "Data columns (total 7 columns):\n",
      "Bank Name                555 non-null object\n",
      "City                     555 non-null object\n",
      "ST                       555 non-null object\n",
      "CERT                     555 non-null int64\n",
      "Acquiring Institution    555 non-null object\n",
      "Closing Date             555 non-null datetime64[ns]\n",
      "Updated Date             555 non-null object\n",
      "dtypes: datetime64[ns](1), int64(1), object(5)\n",
      "memory usage: 30.4+ KB\n",
      "closing_year\n",
      "2000      2\n",
      "2001      4\n",
      "2002     11\n",
      "2003      3\n",
      "2004      4\n",
      "2007      3\n",
      "2008     25\n",
      "2009    140\n",
      "2010    157\n",
      "2011     92\n",
      "2012     51\n",
      "2013     24\n",
      "2014     18\n",
      "2015      8\n",
      "2016      5\n",
      "2017      8\n",
      "dtype: int64\n",
      "closing_year  closing_quarter\n",
      "2000          4                   2\n",
      "2001          1                   1\n",
      "              2                   1\n",
      "              3                   2\n",
      "2002          1                   6\n",
      "              2                   2\n",
      "              3                   1\n",
      "              4                   2\n",
      "2003          1                   1\n",
      "              2                   1\n",
      "              4                   1\n",
      "2004          1                   3\n",
      "              2                   1\n",
      "2007          1                   1\n",
      "              3                   1\n",
      "              4                   1\n",
      "2008          1                   2\n",
      "              2                   2\n",
      "              3                   9\n",
      "              4                  12\n",
      "2009          1                  21\n",
      "              2                  24\n",
      "              3                  50\n",
      "              4                  45\n",
      "2010          1                  41\n",
      "              2                  45\n",
      "              3                  41\n",
      "              4                  30\n",
      "2011          1                  26\n",
      "              2                  22\n",
      "              3                  26\n",
      "              4                  18\n",
      "2012          1                  16\n",
      "              2                  15\n",
      "              3                  12\n",
      "              4                   8\n",
      "2013          1                   4\n",
      "              2                  12\n",
      "              3                   6\n",
      "              4                   2\n",
      "2014          1                   5\n",
      "              2                   7\n",
      "              3                   2\n",
      "              4                   4\n",
      "2015          1                   4\n",
      "              2                   1\n",
      "              3                   1\n",
      "              4                   2\n",
      "2016          1                   1\n",
      "              2                   2\n",
      "              3                   2\n",
      "2017          1                   3\n",
      "              2                   3\n",
      "              4                   2\n",
      "dtype: int64\n"
     ]
    }
   ],
   "source": [
    "import pandas as pd\n",
    "\n",
    "banks = pd.read_csv('./data/banklist.csv')\n",
    "\n",
    "# (1) 먼저 데이타 구조를 파악하기\n",
    "banks.head()\n",
    "# banks.info()\n",
    "\n",
    "# (2) Closing Date를 datetime 오브젝트로 변경\n",
    "banks = pd.read_csv('./data/banklist.csv', parse_dates=['Closing Date'])\n",
    "banks.info()\n",
    "# parse_dates에 s가 있다는 것은 복수개라는 의미\n",
    "# banks = pd.read_csv('./data/banklist.csv', parse_dates=['Closing Date','Updated Date'])\n",
    "# banks.info()\n",
    "\n",
    "# (3) 날짜 정보에서 dt 접근자를 이용하여 연도(year)와 분기(quarter)를 구한다\n",
    "banks['closing_year'] = banks['Closing Date'].dt.year\n",
    "banks['closing_quarter'] = banks['Closing Date'].dt.quarter\n",
    "banks.head()\n",
    "\n",
    "# 2개 이상의 값을 추가 할 수 있다\n",
    "# banks['closing_year'], banks['closing_quarter'] = ( banks['Closing Date'].dt.year, banks['Closing Date'].dt.quarter)\n",
    "# banks.head()\n",
    "\n",
    "# (4) 연도별 파산은행 수 구하기\n",
    "closing_year = banks.groupby(['closing_year']).size()\n",
    "print(closing_year)\n",
    "\n",
    "# (5) 연도별, 분기별 파산은행 수 구하기\n",
    "closing_year_q = banks.groupby(['closing_year','closing_quarter']).size()\n",
    "print(closing_year_q)"
   ]
  },
  {
   "cell_type": "code",
   "execution_count": 7,
   "metadata": {},
   "outputs": [
    {
     "data": {
      "image/png": "[encoded data removed]",
      "text/plain": [
       "<Figure size 432x288 with 1 Axes>"
      ]
     },
     "metadata": {
      "needs_background": "light"
     },
     "output_type": "display_data"
    },
    {
     "data": {
      "image/png": "[encoded data removed]",
      "text/plain": [
       "<Figure size 432x288 with 1 Axes>"
      ]
     },
     "metadata": {
      "needs_background": "light"
     },
     "output_type": "display_data"
    }
   ],
   "source": [
    "\"\"\" 결과를 시각화 \"\"\"\n",
    "%matplotlib inline\n",
    "import matplotlib.pyplot as plt\n",
    "\n",
    "fig, ax = plt.subplots()\n",
    "ax = closing_year.plot()\n",
    "plt.show()\n",
    "\n",
    "fig, ax = plt.subplots()\n",
    "ax = closing_year_q.plot()\n",
    "plt.show()\n"
   ]
  },
  {
   "cell_type": "code",
   "execution_count": null,
   "metadata": {},
   "outputs": [],
   "source": []
  }
 ],
 "metadata": {
  "kernelspec": {
   "display_name": "Python 3",
   "language": "python",
   "name": "python3"
  },
  "language_info": {
   "codemirror_mode": {
    "name": "ipython",
    "version": 3
   },
   "file_extension": ".py",
   "mimetype": "text/x-python",
   "name": "python",
   "nbconvert_exporter": "python",
   "pygments_lexer": "ipython3",
   "version": "3.7.3"
  }
 },
 "nbformat": 4,
 "nbformat_minor": 2
}
