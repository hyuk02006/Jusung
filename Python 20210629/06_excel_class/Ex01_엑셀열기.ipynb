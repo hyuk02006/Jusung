{
 "cells": [
  {
   "cell_type": "markdown",
   "metadata": {},
   "source": [
    "## 파이썬 엑셀 라이브러리\n",
    "\n",
    "+ openpyx\n",
    "+ pyexcel\n",
    "+ xlsxwriter\n",
    "+ xlrd\n",
    "+ xlwt\n",
    "+ xlwings : 엑셀 프로그램에 대한 자동화 라이브러리\n",
    "            다른 라이브러리들은 엑셀 프로그램과 연동되는 것이 아니라 엑셀 파일 포맷을 지원하는 형태인데 반해,\n",
    "            엑셀을 띄워 놓고 파이썬을 통한 값 가져오기 변경등이 지원\n",
    "            윈도우/맥 지원\n",
    "            \n",
    "            설치> pip install xlwings / conda install xlwings\n",
    "            Anaconda Python에는 포함되어 있음\n",
    "            "
   ]
  },
  {
   "cell_type": "code",
   "execution_count": null,
   "metadata": {},
   "outputs": [],
   "source": [
    "# !pip install xlwings\n",
    "# 여기선 걸리는 부분이 있어서 [Anaconda Prompt]를 관리자 권한으로 실행하여 명령어 실행해야 한다"
   ]
  },
  {
   "cell_type": "code",
   "execution_count": null,
   "metadata": {},
   "outputs": [],
   "source": []
  },
  {
   "cell_type": "code",
   "execution_count": null,
   "metadata": {},
   "outputs": [],
   "source": [
    "# 데이타를 바로 엑셀로 보내기\n",
    "data = [\n",
    "    ['apple','pear','mango'],\n",
    "    [100,150, 200],\n",
    "    [120, 160, 170]\n",
    "]\n"
   ]
  },
  {
   "cell_type": "code",
   "execution_count": null,
   "metadata": {},
   "outputs": [],
   "source": []
  },
  {
   "cell_type": "code",
   "execution_count": null,
   "metadata": {},
   "outputs": [],
   "source": []
  },
  {
   "cell_type": "markdown",
   "metadata": {},
   "source": [
    "### 인터넷 상의 데이타를 엑셀로 보내기\n",
    "\n",
    "+ 네이버 환율정보 : https://finance.naver.com/marketindex/exchangeList.nhn\n",
    "\n",
    "\n",
    "1. 데이타를 데이타프레임으로 로딩하기\n",
    "\n",
    "2. 데이타셋 정보 확인하기\n",
    "\n",
    "3. 엑셀로 데이타셋 보내기\n",
    "\n",
    "4. 엑셀에서 데이타 가져오기\n"
   ]
  },
  {
   "cell_type": "code",
   "execution_count": null,
   "metadata": {
    "scrolled": true
   },
   "outputs": [],
   "source": [
    "# (1) 데이타를 데이타프레임으로 로딩하기\n",
    "\n",
    "import pandas as pd\n",
    "\n",
    "url = 'https://finance.naver.com/marketindex/exchangeList.nhn'\n",
    "\n"
   ]
  },
  {
   "cell_type": "code",
   "execution_count": null,
   "metadata": {},
   "outputs": [],
   "source": [
    "# (2) 데이타셋 정보 확인하기\n",
    "# 컬럼명 지정\n",
    "df.columns=['통화명', '매매기준율','현찰-사실때','현찰-파실때','송금-보낼때','송금-받을때','미화환산율']\n",
    "\n"
   ]
  },
  {
   "cell_type": "code",
   "execution_count": null,
   "metadata": {},
   "outputs": [],
   "source": [
    "# 인덱스 지정\n",
    "\n"
   ]
  },
  {
   "cell_type": "code",
   "execution_count": null,
   "metadata": {},
   "outputs": [],
   "source": [
    "# (3) 엑셀로 데이타셋 보내기 \n",
    "#   - 엑셀에서 활성화된(선택된) 시트로 보내짐\n",
    "\n"
   ]
  },
  {
   "cell_type": "code",
   "execution_count": null,
   "metadata": {},
   "outputs": [],
   "source": [
    "# (4) 엑셀에서 가져오기\n",
    "\n",
    "\n"
   ]
  }
 ],
 "metadata": {
  "kernelspec": {
   "display_name": "Python 3",
   "language": "python",
   "name": "python3"
  },
  "language_info": {
   "codemirror_mode": {
    "name": "ipython",
    "version": 3
   },
   "file_extension": ".py",
   "mimetype": "text/x-python",
   "name": "python",
   "nbconvert_exporter": "python",
   "pygments_lexer": "ipython3",
   "version": "3.7.3"
  }
 },
 "nbformat": 4,
 "nbformat_minor": 2
}
