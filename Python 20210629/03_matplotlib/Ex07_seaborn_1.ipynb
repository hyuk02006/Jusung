{
 "cells": [
  {
   "cell_type": "markdown",
   "metadata": {},
   "source": [
    "# 히스토그램과 막대그래프 비교\n",
    "\n",
    "\n",
    "### 1. 히스토그램 ( seaborn 라이브러리 이용 ) \n",
    "    (1) matplotlib의 subplot()으로 기본 틀을 만들고 \n",
    "    (2) seabron의 displot()에 데이타를 전달한다\n",
    "    \n",
    "    \n",
    "        a) 밀집도 그래프(실선그래프)를 제외 : kde속성\n",
    "        axes = sb.distplot(tips['total_bill'], kde=False)\n",
    "        밀집도 그래프는 주어진 데이타를 정규화시켜 넓이가 1이되도록 그린 그래프\n",
    "\n",
    "        (*) 데이타 정규화 : 데이타의 분포가 너무 한 쪽으로 치우지 않도록 하는 작업(?)\n",
    "\n",
    "        b) 밀집도 그래프만 출력 : hist=False\n",
    "        axes = sb.distplot(tips['total_bill'], hist=False)\n",
    "\n",
    "        c) rug 양탄자그래프(?) : 그래프의 축에 동일한 선으로 데이타 밀집정도를 표현\n",
    "        axes = sb.distplot(tips['total_bill'], rug=True)\n",
    "        \n",
    "        \n",
    "### 2. 막대그래프 (*****)\n",
    "    \n",
    "        ` 히스토그램 : 연속형 데이타 - 온도\n",
    "        ` 막대그래프 : 이산형 데이타(명목데이타) - 성별, 출신지\n",
    "    \n",
    "    (1) matplotlib의 subplot()으로 기본 틀을 만들고 \n",
    "    (2) seabron의 countplot()에 데이타를 전달한다   \n",
    "    \n",
    "    \n",
    "    \n",
    "#### [ 참고 ] \n",
    "\n",
    "1) plt.subplot() : 현재 figure에 subplot 붙이고 반환(?)\n",
    "\n",
    "2) plt.subplots() : figure / subplot 반환(?)"
   ]
  },
  {
   "cell_type": "markdown",
   "metadata": {},
   "source": [
    "### 참고 \n",
    "[seaborn 상세한 스타일 세팅 방법](https://seaborn.pydata.org/tutorial/aesthetics.html)은 왼쪽의 링크를 통해 확인하실 수 있습니다."
   ]
  },
  {
   "cell_type": "code",
   "execution_count": 1,
   "metadata": {},
   "outputs": [
    {
     "data": {
      "text/html": [
       "<div>\n",
       "<style scoped>\n",
       "    .dataframe tbody tr th:only-of-type {\n",
       "        vertical-align: middle;\n",
       "    }\n",
       "\n",
       "    .dataframe tbody tr th {\n",
       "        vertical-align: top;\n",
       "    }\n",
       "\n",
       "    .dataframe thead th {\n",
       "        text-align: right;\n",
       "    }\n",
       "</style>\n",
       "<table border=\"1\" class=\"dataframe\">\n",
       "  <thead>\n",
       "    <tr style=\"text-align: right;\">\n",
       "      <th></th>\n",
       "      <th>total_bill</th>\n",
       "      <th>tip</th>\n",
       "      <th>sex</th>\n",
       "      <th>smoker</th>\n",
       "      <th>day</th>\n",
       "      <th>time</th>\n",
       "      <th>size</th>\n",
       "    </tr>\n",
       "  </thead>\n",
       "  <tbody>\n",
       "    <tr>\n",
       "      <th>0</th>\n",
       "      <td>16.99</td>\n",
       "      <td>1.01</td>\n",
       "      <td>Female</td>\n",
       "      <td>No</td>\n",
       "      <td>Sun</td>\n",
       "      <td>Dinner</td>\n",
       "      <td>2</td>\n",
       "    </tr>\n",
       "    <tr>\n",
       "      <th>1</th>\n",
       "      <td>10.34</td>\n",
       "      <td>1.66</td>\n",
       "      <td>Male</td>\n",
       "      <td>No</td>\n",
       "      <td>Sun</td>\n",
       "      <td>Dinner</td>\n",
       "      <td>3</td>\n",
       "    </tr>\n",
       "    <tr>\n",
       "      <th>2</th>\n",
       "      <td>21.01</td>\n",
       "      <td>3.50</td>\n",
       "      <td>Male</td>\n",
       "      <td>No</td>\n",
       "      <td>Sun</td>\n",
       "      <td>Dinner</td>\n",
       "      <td>3</td>\n",
       "    </tr>\n",
       "    <tr>\n",
       "      <th>3</th>\n",
       "      <td>23.68</td>\n",
       "      <td>3.31</td>\n",
       "      <td>Male</td>\n",
       "      <td>No</td>\n",
       "      <td>Sun</td>\n",
       "      <td>Dinner</td>\n",
       "      <td>2</td>\n",
       "    </tr>\n",
       "    <tr>\n",
       "      <th>4</th>\n",
       "      <td>24.59</td>\n",
       "      <td>3.61</td>\n",
       "      <td>Female</td>\n",
       "      <td>No</td>\n",
       "      <td>Sun</td>\n",
       "      <td>Dinner</td>\n",
       "      <td>4</td>\n",
       "    </tr>\n",
       "  </tbody>\n",
       "</table>\n",
       "</div>"
      ],
      "text/plain": [
       "   total_bill   tip     sex smoker  day    time  size\n",
       "0       16.99  1.01  Female     No  Sun  Dinner     2\n",
       "1       10.34  1.66    Male     No  Sun  Dinner     3\n",
       "2       21.01  3.50    Male     No  Sun  Dinner     3\n",
       "3       23.68  3.31    Male     No  Sun  Dinner     2\n",
       "4       24.59  3.61  Female     No  Sun  Dinner     4"
      ]
     },
     "execution_count": 1,
     "metadata": {},
     "output_type": "execute_result"
    }
   ],
   "source": [
    "import matplotlib.pyplot as plt\n",
    "import seaborn as sns\n",
    "\n",
    "tips = sns.load_dataset('tips')\n",
    "tips.head()"
   ]
  },
  {
   "cell_type": "code",
   "execution_count": 2,
   "metadata": {
    "scrolled": true
   },
   "outputs": [
    {
     "data": {
      "text/plain": [
       "\" a) 밀집도 그래프(실선그래프)를 제외 : kde속성\\n    axes = sb.distplot(tips['total_bill'], kde=False)\\n    밀집도 그래프는 주어진 데이타를 정규화시켜 넓이가 1이되도록 그린 그래프\\n    \\n    (*) 데이타 정규화 : 데이타의 분포가 너무 한 쪽으로 치우지 않도록 하는 작업(?)\\n    \\n    b) 밀집도 그래프만 출력 : hist=False\\n    axes = sb.distplot(tips['total_bill'], hist=False)\\n    \\n    c) rug 양탄자그래프(?) : 그래프의 축에 동일한 선으로 데이타 밀집정도를 표현\\n    axes = sb.distplot(tips['total_bill'], rug=True)\\n\""
      ]
     },
     "execution_count": 2,
     "metadata": {},
     "output_type": "execute_result"
    },
    {
     "data": {
      "image/png": "[encoded data removed]",
      "text/plain": [
       "<Figure size 432x288 with 1 Axes>"
      ]
     },
     "metadata": {
      "needs_background": "light"
     },
     "output_type": "display_data"
    }
   ],
   "source": [
    "\"\"\"\n",
    "    1. 히스토그램 ( seaborn 라이브러리 이용 ) \n",
    "    (1) matplotlib의 subplots()으로 기본 틀을 만들고 \n",
    "    (2) seabron의 displot()에 데이타를 전달한다\n",
    "\"\"\"\n",
    "plt.subplot()                   # 왜 같은 변수에 저장할까?\n",
    "axes = sns.distplot(tips['total_bill'])\n",
    "axes.set_title('Total Bill Histogram')\n",
    "\n",
    "\"\"\" a) 밀집도 그래프(실선그래프)를 제외 : kde속성\n",
    "    axes = sb.distplot(tips['total_bill'], kde=False)\n",
    "    밀집도 그래프는 주어진 데이타를 정규화시켜 넓이가 1이되도록 그린 그래프\n",
    "    \n",
    "    (*) 데이타 정규화 : 데이타의 분포가 너무 한 쪽으로 치우지 않도록 하는 작업(?)\n",
    "    \n",
    "    b) 밀집도 그래프만 출력 : hist=False\n",
    "    axes = sb.distplot(tips['total_bill'], hist=False)\n",
    "    \n",
    "    c) rug 양탄자그래프(?) : 그래프의 축에 동일한 선으로 데이타 밀집정도를 표현\n",
    "    axes = sb.distplot(tips['total_bill'], rug=True)\n",
    "\"\"\""
   ]
  },
  {
   "cell_type": "code",
   "execution_count": 3,
   "metadata": {},
   "outputs": [
    {
     "data": {
      "text/plain": [
       "\" 만일 이산형데이타를 히스토그램으로 출력한다면??? \\n    axes = sb.distplot(tips['day'])\\n    에러 문구 중에 TypeError: unsupported operand type(s) for /: 'str' and 'int'\\n\""
      ]
     },
     "execution_count": 3,
     "metadata": {},
     "output_type": "execute_result"
    },
    {
     "data": {
      "image/png": "[encoded data removed]",
      "text/plain": [
       "<Figure size 432x288 with 1 Axes>"
      ]
     },
     "metadata": {
      "needs_background": "light"
     },
     "output_type": "display_data"
    }
   ],
   "source": [
    "\"\"\"\n",
    "    2. 막대그래프 (*****)\n",
    "    \n",
    "        ` 히스토그램 : 연속형 데이타 - 온도\n",
    "        ` 막대그래프 : 이산형 데이타(명목데이타) - 성별, 출신지\n",
    "    \n",
    "    (1) matplotlib의 subplots()으로 기본 틀을 만들고 \n",
    "    (2) seabron의 countplot()에 데이타를 전달한다\n",
    "\"\"\"\n",
    "plt.subplot()\n",
    "axes = sns.countplot(tips['day'])\n",
    "# 동일 : axes = sns.countplot('day', data=tips)\n",
    "\n",
    "\"\"\" 만일 이산형데이타를 히스토그램으로 출력한다면??? \n",
    "    axes = sb.distplot(tips['day'])\n",
    "    에러 문구 중에 TypeError: unsupported operand type(s) for /: 'str' and 'int'\n",
    "\"\"\""
   ]
  },
  {
   "cell_type": "code",
   "execution_count": null,
   "metadata": {},
   "outputs": [],
   "source": []
  },
  {
   "cell_type": "code",
   "execution_count": null,
   "metadata": {},
   "outputs": [],
   "source": []
  },
  {
   "cell_type": "code",
   "execution_count": null,
   "metadata": {},
   "outputs": [],
   "source": []
  }
 ],
 "metadata": {
  "kernelspec": {
   "display_name": "Python 3",
   "language": "python",
   "name": "python3"
  },
  "language_info": {
   "codemirror_mode": {
    "name": "ipython",
    "version": 3
   },
   "file_extension": ".py",
   "mimetype": "text/x-python",
   "name": "python",
   "nbconvert_exporter": "python",
   "pygments_lexer": "ipython3",
   "version": "3.7.6"
  }
 },
 "nbformat": 4,
 "nbformat_minor": 2
}
