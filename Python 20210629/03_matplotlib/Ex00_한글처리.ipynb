{
 "cells": [
  {
   "cell_type": "code",
   "execution_count": 6,
   "metadata": {},
   "outputs": [],
   "source": [
    "%matplotlib inline"
   ]
  },
  {
   "cell_type": "code",
   "execution_count": 8,
   "metadata": {},
   "outputs": [],
   "source": [
    "import matplotlib.pyplot as plt\n",
    "import numpy as np"
   ]
  },
  {
   "cell_type": "markdown",
   "metadata": {},
   "source": [
    "### 한글등록"
   ]
  },
  {
   "cell_type": "code",
   "execution_count": 3,
   "metadata": {},
   "outputs": [],
   "source": [
    "# 한글등록\n",
    "from matplotlib import font_manager, rc  # rc : resource\n",
    "\n",
    "# 추가설정 - 폰트를 변경하면 -표시가 ㅁ으로 변경되기에 '-'를 변경하지 않도록 지정\n",
    "plt.rcParams['axes.unicode_minus']=False \n",
    "\n",
    "fong_loc = \"c:/Windows/Fonts/malgun.ttf\" # 글꼴 경로\n",
    "font_name = font_manager.FontProperties(fname=fong_loc).get_name()\n",
    "# print(font_name) # 폰트매니저를 통해 인식하고 있는 글꼴 이름을 가져온다\n",
    "rc('font', family=font_name) # 리소스에 글꼴을 등록"
   ]
  },
  {
   "cell_type": "markdown",
   "metadata": {},
   "source": [
    "### 간단한 한글등록(*****)"
   ]
  },
  {
   "cell_type": "code",
   "execution_count": 4,
   "metadata": {},
   "outputs": [],
   "source": [
    "from matplotlib import font_manager, rc\n",
    "\n",
    "plt.rcParams['axes.unicode_minus']=False  # 추가설정 : 폰트를 변경하면 -표시가 ㅁ으로 변경되기에 '-'를 변경하지 않도록 지정\n",
    "rc('font', family='Malgun Gothic')"
   ]
  },
  {
   "cell_type": "markdown",
   "metadata": {},
   "source": [
    "\n",
    "### [참고] 폰트종류 볼 때 - 그치만 한글 폰트명을 알아야 유용 \n",
    "\n",
    "from matplotlib import font_manager\n",
    "\n",
    "font_manager.fontManager.ttflist"
   ]
  },
  {
   "cell_type": "code",
   "execution_count": null,
   "metadata": {},
   "outputs": [],
   "source": []
  },
  {
   "cell_type": "code",
   "execution_count": 10,
   "metadata": {},
   "outputs": [
    {
     "data": {
      "text/plain": [
       "[Text(0, 0, '하나'),\n",
       " Text(0, 0, '둘'),\n",
       " Text(0, 0, '셋'),\n",
       " Text(0, 0, '사'),\n",
       " Text(0, 0, '오')]"
      ]
     },
     "execution_count": 10,
     "metadata": {},
     "output_type": "execute_result"
    },
    {
     "data": {
      "image/png": "[encoded data removed]",
      "text/plain": [
       "<Figure size 432x288 with 1 Axes>"
      ]
     },
     "metadata": {
      "needs_background": "light"
     },
     "output_type": "display_data"
    }
   ],
   "source": [
    "fig=plt.figure()\n",
    "a1=fig.add_subplot(111)\n",
    "a1.plot(np.random.randn(40), 'r-+'); # 'r-+'\n",
    "a1.set_xticks([10,20,30,40, 50])    # tick : 눈금 ( 랜덤 40개까지 출력됨 )\n",
    "a1.set_xticklabels(['하나','둘','셋','사','오'])\n",
    "   # [결과] - 표시가 깨짐"
   ]
  },
  {
   "cell_type": "code",
   "execution_count": null,
   "metadata": {},
   "outputs": [],
   "source": [
    "# 그래프 저장\n",
    "# fig.savefig('tempgraph.png', dpi=350) # 파일생성파일"
   ]
  }
 ],
 "metadata": {
  "kernelspec": {
   "display_name": "Python 3",
   "language": "python",
   "name": "python3"
  },
  "language_info": {
   "codemirror_mode": {
    "name": "ipython",
    "version": 3
   },
   "file_extension": ".py",
   "mimetype": "text/x-python",
   "name": "python",
   "nbconvert_exporter": "python",
   "pygments_lexer": "ipython3",
   "version": "3.7.3"
  }
 },
 "nbformat": 4,
 "nbformat_minor": 2
}
