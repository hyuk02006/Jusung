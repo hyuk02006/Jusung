{
 "cells": [
  {
   "cell_type": "markdown",
   "metadata": {},
   "source": [
    "## 파이썬의 리스트와 튜플"
   ]
  },
  {
   "cell_type": "code",
   "execution_count": 1,
   "metadata": {},
   "outputs": [
    {
     "data": {
      "text/plain": [
       "[22, 44, 11, {'길길', '길동', '길자'}]"
      ]
     },
     "execution_count": 1,
     "metadata": {},
     "output_type": "execute_result"
    }
   ],
   "source": [
    "## (1) 22, 44, 11 요소의 리스트 a_data 생성\n",
    "## (2) 길자, 길동, 길길 요소의 튜플 b_data생성\n",
    "## (3) b_data 튜플을 a_data 리스트에 추가\n",
    "\n",
    "a_data = [22,44, 11]  # 리스트 형태\n",
    "b_data = {'길자','길동','길길'}  # 튜플 형태\n",
    "a_data.append(b_data)\n",
    "a_data\n"
   ]
  },
  {
   "cell_type": "code",
   "execution_count": 5,
   "metadata": {},
   "outputs": [
    {
     "ename": "NameError",
     "evalue": "name 'b_list' is not defined",
     "output_type": "error",
     "traceback": [
      "\u001b[1;31m---------------------------------------------------------------------------\u001b[0m",
      "\u001b[1;31mNameError\u001b[0m                                 Traceback (most recent call last)",
      "\u001b[1;32m<ipython-input-5-741ecaf73be1>\u001b[0m in \u001b[0;36m<module>\u001b[1;34m\u001b[0m\n\u001b[0;32m      1\u001b[0m \u001b[1;31m## (4) b_data에서 2번째 요소까지 출력\u001b[0m\u001b[1;33m\u001b[0m\u001b[1;33m\u001b[0m\u001b[1;33m\u001b[0m\u001b[0m\n\u001b[1;32m----> 2\u001b[1;33m \u001b[0mout_b\u001b[0m \u001b[1;33m=\u001b[0m \u001b[0mb_list\u001b[0m\u001b[1;33m[\u001b[0m\u001b[1;33m:\u001b[0m\u001b[1;36m2\u001b[0m\u001b[1;33m]\u001b[0m\u001b[1;33m\u001b[0m\u001b[1;33m\u001b[0m\u001b[0m\n\u001b[0m\u001b[0;32m      3\u001b[0m \u001b[0mprint\u001b[0m\u001b[1;33m(\u001b[0m\u001b[0mout_b\u001b[0m\u001b[1;33m)\u001b[0m\u001b[1;33m\u001b[0m\u001b[1;33m\u001b[0m\u001b[0m\n",
      "\u001b[1;31mNameError\u001b[0m: name 'b_list' is not defined"
     ]
    }
   ],
   "source": [
    "## (4) b_data에서 2번째 요소까지 출력\n",
    "out_b = b_list[:2]\n",
    "print(out_b)"
   ]
  },
  {
   "cell_type": "code",
   "execution_count": 6,
   "metadata": {},
   "outputs": [
    {
     "data": {
      "text/plain": [
       "(22, 44, 11, {'길길', '길동', '길자'})"
      ]
     },
     "execution_count": 6,
     "metadata": {},
     "output_type": "execute_result"
    }
   ],
   "source": [
    "## (5) a_data를 튜플로 변경\n",
    "##      11을 10으로 변경하려면?\n",
    "a_tuple = tuple(a_data)\n",
    "a_tuple\n"
   ]
  },
  {
   "cell_type": "markdown",
   "metadata": {},
   "source": [
    "##  리스트 복습\n",
    "\n",
    "- append(추가요소) : 리스트 맨 마지막에 하나 추가\n",
    "\n",
    "- pop() : 마지막요소를 지움\n",
    "\n",
    "- extend([추가요소들]) : 리스트 마지막에 여러 개 추가\n",
    "\n",
    "- remove('요소값') : 해당 요소값 지움\n",
    "\n",
    "---\n",
    "\n",
    "- insert(idx, '데이타') : 원하는 위치에 자료 삽입\n",
    "\n",
    "---\n",
    "[슬라이싱]\n",
    "\n",
    "- 리스트명(n:m) : n부터 m-1까지 데이타 추출\n"
   ]
  },
  {
   "cell_type": "code",
   "execution_count": 7,
   "metadata": {},
   "outputs": [
    {
     "data": {
      "text/plain": [
       "['어밴져스', '기생충', '가디언스갤럭시', '어떤영화', '유명한 영화']"
      ]
     },
     "execution_count": 7,
     "metadata": {},
     "output_type": "execute_result"
    }
   ],
   "source": [
    "movies = ['어밴져스','기생충','가디언스갤럭시','어떤영화','유명한 영화']\n",
    "movies"
   ]
  },
  {
   "cell_type": "markdown",
   "metadata": {},
   "source": [
    "(1) '어젠져스2' 추가"
   ]
  },
  {
   "cell_type": "code",
   "execution_count": 16,
   "metadata": {},
   "outputs": [
    {
     "data": {
      "text/plain": [
       "['어밴져스', '기생충', '가디언스갤럭시', '어떤영화', '유명한 영화', '어밴져스2']"
      ]
     },
     "execution_count": 16,
     "metadata": {},
     "output_type": "execute_result"
    }
   ],
   "source": [
    "movies.append('어밴져스2')\n",
    "movies"
   ]
  },
  {
   "cell_type": "markdown",
   "metadata": {},
   "source": [
    "(2) 마지막요소 제거"
   ]
  },
  {
   "cell_type": "code",
   "execution_count": 15,
   "metadata": {},
   "outputs": [
    {
     "data": {
      "text/plain": [
       "['어밴져스', '기생충', '가디언스갤럭시', '어떤영화', '유명한 영화']"
      ]
     },
     "execution_count": 15,
     "metadata": {},
     "output_type": "execute_result"
    }
   ],
   "source": [
    "movies.pop()\n",
    "movies"
   ]
  },
  {
   "cell_type": "markdown",
   "metadata": {},
   "source": [
    "(3) '어벤져스2','기생충2' 요소를 한꺼번에 추가"
   ]
  },
  {
   "cell_type": "code",
   "execution_count": 19,
   "metadata": {},
   "outputs": [
    {
     "data": {
      "text/plain": [
       "['어밴져스',\n",
       " '기생충',\n",
       " '가디언스갤럭시',\n",
       " '어떤영화',\n",
       " '유명한 영화',\n",
       " '어밴져스2',\n",
       " '어벤져스2',\n",
       " '기생충2',\n",
       " '어벤져스2',\n",
       " '기생충2',\n",
       " '어벤져스2',\n",
       " '기생충2']"
      ]
     },
     "execution_count": 19,
     "metadata": {},
     "output_type": "execute_result"
    }
   ],
   "source": [
    "movies.extend(['어벤져스2','기생충2'])\n",
    "movies"
   ]
  },
  {
   "cell_type": "markdown",
   "metadata": {},
   "source": [
    "(4) '어벤져스2' 요소 제거"
   ]
  },
  {
   "cell_type": "code",
   "execution_count": 20,
   "metadata": {},
   "outputs": [
    {
     "ename": "AttributeError",
     "evalue": "'list' object has no attribute 'remonve'",
     "output_type": "error",
     "traceback": [
      "\u001b[1;31m---------------------------------------------------------------------------\u001b[0m",
      "\u001b[1;31mAttributeError\u001b[0m                            Traceback (most recent call last)",
      "\u001b[1;32m<ipython-input-20-ad1afa6bb602>\u001b[0m in \u001b[0;36m<module>\u001b[1;34m\u001b[0m\n\u001b[1;32m----> 1\u001b[1;33m \u001b[0mmovies\u001b[0m\u001b[1;33m.\u001b[0m\u001b[0mremonve\u001b[0m\u001b[1;33m(\u001b[0m\u001b[1;34m'어벤져스2'\u001b[0m\u001b[1;33m)\u001b[0m\u001b[1;33m\u001b[0m\u001b[1;33m\u001b[0m\u001b[0m\n\u001b[0m",
      "\u001b[1;31mAttributeError\u001b[0m: 'list' object has no attribute 'remonve'"
     ]
    }
   ],
   "source": [
    "movies.remonve('어벤져스2')"
   ]
  },
  {
   "cell_type": "markdown",
   "metadata": {},
   "source": [
    "(5) 4번째 위치에 '오래된 영화' 추가"
   ]
  },
  {
   "cell_type": "code",
   "execution_count": null,
   "metadata": {},
   "outputs": [],
   "source": [
    "movies.insert(3,'오래된 영화')\n",
    "ㅡㅐ"
   ]
  },
  {
   "cell_type": "markdown",
   "metadata": {},
   "source": [
    "(6) 영화목록에서 3번째에서 5번째까지 추출"
   ]
  },
  {
   "cell_type": "code",
   "execution_count": null,
   "metadata": {},
   "outputs": [],
   "source": []
  }
 ],
 "metadata": {
  "kernelspec": {
   "display_name": "Python 3",
   "language": "python",
   "name": "python3"
  },
  "language_info": {
   "codemirror_mode": {
    "name": "ipython",
    "version": 3
   },
   "file_extension": ".py",
   "mimetype": "text/x-python",
   "name": "python",
   "nbconvert_exporter": "python",
   "pygments_lexer": "ipython3",
   "version": "3.7.6"
  }
 },
 "nbformat": 4,
 "nbformat_minor": 2
}
